{
  "nbformat": 4,
  "nbformat_minor": 0,
  "metadata": {
    "colab": {
      "provenance": [],
      "authorship_tag": "ABX9TyNeD0KzavSZdan+ANA0m9qr",
      "include_colab_link": true
    },
    "kernelspec": {
      "name": "python3",
      "display_name": "Python 3"
    },
    "language_info": {
      "name": "python"
    }
  },
  "cells": [
    {
      "cell_type": "markdown",
      "metadata": {
        "id": "view-in-github",
        "colab_type": "text"
      },
      "source": [
        "<a href=\"https://colab.research.google.com/github/ahmdhaniyaa66-commits/Ddp/blob/main/praktikum_5.ipynb\" target=\"_parent\"><img src=\"https://colab.research.google.com/assets/colab-badge.svg\" alt=\"Open In Colab\"/></a>"
      ]
    },
    {
      "cell_type": "code",
      "execution_count": 6,
      "metadata": {
        "colab": {
          "base_uri": "https://localhost:8080/"
        },
        "id": "8UBVeU2ovj8Z",
        "outputId": "edbd3097-dfb7-45f8-e7e4-5ac85720384e"
      },
      "outputs": [
        {
          "output_type": "stream",
          "name": "stdout",
          "text": [
            "Data sebelum revisi : ['Mobil', 'jeep', '1000cc', 'hitam', '4 Roda']\n",
            "Data setelah Revisi 1 : ['Mobil', 'jeep', '1000cc', 'hitam', '4 Roda', ['5M', 'Kopling']]\n",
            "Data setelah Revisi 2 : ['Mobil', 'jeep', ['kijang'], '1000cc', 'hitam', '4 Roda', ['5M', 'Kopling']]\n"
          ]
        }
      ],
      "source": [
        "Mobil = [\"Mobil\",\"jeep\",\"1000cc\",\"hitam\",\"4 Roda\"]\n",
        "tambahan = [\"5M\",\"Kopling\"]\n",
        "Merk = [\"kijang\"]\n",
        "\n",
        "print(\"Data sebelum revisi :\",Mobil)\n",
        "Mobil.append(tambahan)\n",
        "print(\"Data setelah Revisi 1 :\",Mobil)\n",
        "Mobil.insert(2,Merk)\n",
        "print(\"Data setelah Revisi 2 :\",Mobil)"
      ]
    },
    {
      "cell_type": "code",
      "source": [
        "pilihan = int(input(\"\"\"\n",
        "silahkan pilih menu yang diinginkan\n",
        "====================================\n",
        "1. Luas persegi\n",
        "2. Luas lingkaran\n",
        "3. Luas segitiga\n",
        "====================================\n",
        "Kirimkan hanya angka saja,\n",
        "jawaban = \"\"\"))\n",
        "\n",
        "match pilihan:\n",
        "  case 1:\n",
        "    sisi = int(input(\"sisi = \"))\n",
        "    luas = sisi * sisi\n",
        "    print(f\"luas persegi dengan sisi {sisi} adalah {luas}\")\n",
        "  # luas persegi\n",
        "  case 2:\n",
        "  # luas lingkaran\n",
        "  # phi * jari-jari**2\n",
        "    print(f\"luas lingkaran\")\n",
        "  case 3:\n",
        "  # luas segitiga\n",
        "  # (alas * tinggi)/2\n",
        "    print(\"\")\n",
        "  case _:\n",
        "    print(\"ya ndak tau kok tanya saya si\")"
      ],
      "metadata": {
        "colab": {
          "base_uri": "https://localhost:8080/"
        },
        "id": "qR5fuWbqC3CR",
        "outputId": "b6291d22-6a6a-467c-a98e-8ce94d0d7978"
      },
      "execution_count": 16,
      "outputs": [
        {
          "output_type": "stream",
          "name": "stdout",
          "text": [
            "\n",
            "silahkan pilih menu yang diinginkan\n",
            "====================================\n",
            "1. Luas persegi\n",
            "2. Luas lingkaran\n",
            "3. Luas segitiga\n",
            "====================================\n",
            "Kirimkan hanya angka saja,\n",
            "jawaban = 1\n",
            "sisi = 20\n",
            "luas persegi dengan sisi 20 adalah 400\n"
          ]
        }
      ]
    }
  ]
}